{
 "cells": [
  {
   "cell_type": "markdown",
   "id": "97c193f0",
   "metadata": {},
   "source": [
    "# 📊 Exploratory Data Analysis (EDA)\n",
    "Análisis exploratorio del dataset de feedback."
   ]
  },
  {
   "cell_type": "code",
   "execution_count": null,
   "id": "85d6b9fc",
   "metadata": {},
   "outputs": [],
   "source": [
    "# Cargar librerías\n",
    "import pandas as pd\n",
    "import matplotlib.pyplot as plt\n",
    "import seaborn as sns\n",
    "import numpy as np"
   ]
  },
  {
   "cell_type": "code",
   "execution_count": null,
   "id": "d13e61f7",
   "metadata": {},
   "outputs": [],
   "source": [
    "# Cargar dataset\n",
    "df = pd.read_csv('../data/feedback.csv', delimiter=';')\n",
    "df.head()Save"
   ]
  },
  {
   "cell_type": "code",
   "execution_count": null,
   "id": "c166505e",
   "metadata": {},
   "outputs": [],
   "source": [
    "# Revisión general\n",
    "df.info()"
   ]
  },
  {
   "cell_type": "code",
   "execution_count": null,
   "id": "0133b510",
   "metadata": {},
   "outputs": [],
   "source": [
    "# Revisión de valores nulos\n",
    "df.isnull().sum()"
   ]
  },
  {
   "cell_type": "code",
   "execution_count": null,
   "id": "9764d82b",
   "metadata": {},
   "outputs": [],
   "source": [
    "# Distribución de clases\n",
    "sns.countplot(data=df, x='label')\n",
    "plt.title('Distribución de etiquetas')"
   ]
  },
  {
   "cell_type": "code",
   "execution_count": null,
   "id": "eb39cc04",
   "metadata": {},
   "outputs": [],
   "source": [
    "# Longitud de texto\n",
    "df['text_length'] = df['text'].apply(len)\n",
    "df['text_length'].hist(bins=30)\n",
    "plt.title('Distribución de longitud de texto')"
   ]
  },
  {
   "cell_type": "code",
   "execution_count": null,
   "id": "74f277a4",
   "metadata": {},
   "outputs": [],
   "source": [
    "# Palabras más comunes (si aplica tokenización)...\n",
    "# Aquí puedes agregar análisis NLP si se requiere más adelante"
   ]
  }
 ],
 "metadata": {
  "language_info": {
   "name": "python"
  }
 },
 "nbformat": 4,
 "nbformat_minor": 5
}
